{
 "cells": [
  {
   "cell_type": "markdown",
   "id": "2993acf2",
   "metadata": {},
   "source": [
    "# Importing Libraries"
   ]
  },
  {
   "cell_type": "code",
   "execution_count": 22,
   "id": "dcd410a2",
   "metadata": {
    "ExecuteTime": {
     "end_time": "2022-05-15T19:10:53.763230Z",
     "start_time": "2022-05-15T19:10:53.696106Z"
    }
   },
   "outputs": [],
   "source": [
    "import cv2\n",
    "import numpy as np\n",
    "import matplotlib.pyplot as plt\n",
    "import os\n",
    "from object_detection import ObjectDetection\n",
    "import imutils"
   ]
  },
  {
   "cell_type": "markdown",
   "id": "38dd2f87",
   "metadata": {},
   "source": [
    "# A. Using Yolo and Polygon"
   ]
  },
  {
   "cell_type": "code",
   "execution_count": 20,
   "id": "d936e077",
   "metadata": {
    "ExecuteTime": {
     "end_time": "2022-05-15T18:47:13.584144Z",
     "start_time": "2022-05-15T18:47:00.729930Z"
    }
   },
   "outputs": [
    {
     "name": "stdout",
     "output_type": "stream",
     "text": [
      "Loading Object Detection\n",
      "Running opencv dnn with YOLOv4\n"
     ]
    }
   ],
   "source": [
    "#Institating the object containing YOLO\n",
    "od = ObjectDetection()\n",
    "\n",
    "#Capture the video\n",
    "cap = cv2.VideoCapture(\"assets/test.mp4\")\n",
    "\n",
    "#plot point to draw a polygon\n",
    "pts = np.array([[1000, 100], [1000, 200], \n",
    "                [1100, 250], [1200, 200], \n",
    "                [1200, 100], [1100, 50]],\n",
    "                np.int32)\n",
    "\n",
    "# loop over the frames from the video stream\n",
    "while True:\n",
    "    \n",
    "    #capture return values and frames with cap.read() \n",
    "    #for each frame we will detect the bounding boxes\n",
    "    #Once the return value = False, break the loop\n",
    "    ret, frame = cap.read()\n",
    "    if ret ==False:\n",
    "        break\n",
    "    \n",
    "    #Unpacking and storing the values\n",
    "    (class_ids, scores, boxes) = od.detect(frame)\n",
    "    \n",
    "    #creating bounding boxes with accurate dimensions\n",
    "    for box in boxes:\n",
    "        (x, y, w, h) = box\n",
    "        cv2.rectangle(frame, (x,y), (x+w , y+h), (0,255,0), 2)\n",
    "        \n",
    "        #Creating a polygon\n",
    "        poly_image = cv2.polylines(frame, [pts], isClosed=True, color=(0,0,255), thickness=4)\n",
    "    \n",
    "    # show the output frame\n",
    "    cv2.imshow(\"Detection\", frame)\n",
    "    \n",
    "    # if the `x` key was pressed, break from the loop\n",
    "    if cv2.waitKey(1) & 0xFF == ord(\"x\"):\n",
    "        break\n",
    "        \n",
    "cap.release()\n",
    "cv2.destroyAllWindows()"
   ]
  },
  {
   "cell_type": "markdown",
   "id": "b385435b",
   "metadata": {
    "ExecuteTime": {
     "end_time": "2022-05-15T18:25:10.697258Z",
     "start_time": "2022-05-15T18:25:10.686285Z"
    }
   },
   "source": [
    "# B. Using MobileNet SSD"
   ]
  },
  {
   "cell_type": "code",
   "execution_count": 35,
   "id": "0fa8a012",
   "metadata": {
    "ExecuteTime": {
     "end_time": "2022-05-15T19:40:46.709104Z",
     "start_time": "2022-05-15T19:40:12.022716Z"
    }
   },
   "outputs": [
    {
     "name": "stdout",
     "output_type": "stream",
     "text": [
      "[INFO] running real time object detection.py....\n",
      "[INFO] loading model...\n",
      "[INFO] starting video stream...\n"
     ]
    }
   ],
   "source": [
    "import numpy as np\n",
    "\n",
    "import imutils\n",
    "import time\n",
    "import cv2\n",
    "\n",
    "from config import *\n",
    "\n",
    "\n",
    "\n",
    "print(\"[INFO] running real time object detection.py....\")\n",
    "# initialize the list of class labels MobileNet SSD was trained to\n",
    "\n",
    "# detect, then generate a set of bounding box colors for each class\n",
    "CLASSES = [\"background\", \"aeroplane\", \"bicycle\", \"bird\", \"boat\",\n",
    "           \"bottle\", \"bus\", \"car\", \"cat\", \"chair\", \"cow\", \"diningtable\",\n",
    "           \"dog\", \"horse\", \"motorbike\", \"person\", \"pottedplant\", \"sheep\",\n",
    "           \"sofa\", \"train\", \"tvmonitor\"]\n",
    "COLORS = np.random.uniform(0, 255, size=(len(CLASSES), 3))\n",
    "\n",
    "# load our serialized model from disk\n",
    "print(\"[INFO] loading model...\")\n",
    "net = cv2.dnn.readNetFromCaffe(\"models/MobileNetSSD_deploy.prototxt.txt\", \"models/MobileNetSSD_deploy.caffemodel\")\n",
    "\n",
    "# initialize the video stream, allow the cammera sensor to warmup,\n",
    "print(\"[INFO] starting video stream...\")\n",
    "\n",
    "vs = cv2.VideoCapture(\"assets/test.mp4\")\n",
    "\n",
    "\n",
    "#Properties of video\n",
    "height = int(cap.get(cv2.CAP_PROP_FRAME_HEIGHT))\n",
    "width = int(cap.get(cv2.CAP_PROP_FRAME_WIDTH))\n",
    "fps = cap.get(cv2.CAP_PROP_FPS)\n",
    "\n",
    "#Setup Video Writer\n",
    "video_writer = cv2.VideoWriter((\"ssd.avi\"), cv2.VideoWriter_fourcc('P','I','M','1'),fps,(height,width))\n",
    "\n",
    "\n",
    "time.sleep(2.0)\n",
    "\n",
    "detected_objects = []\n",
    "# loop over the frames from the video stream\n",
    "while True:\n",
    "    # grab the frame from the threaded video stream and resize it\n",
    "    # to have a maximum width of 800 pixels\n",
    "\n",
    "    ret, frame = vs.read()\n",
    "\n",
    "    if ret == False:\n",
    "        break\n",
    "\n",
    "    frame = imutils.resize(frame, width=800)\n",
    "    # print(frame.shape)\n",
    "\n",
    "    cv2.rectangle(frame, pt1=(500, 200), pt2=(750, 400), color=(255, 255, 0), thickness=5)\n",
    "    roi = frame[200:400, 500:750]\n",
    "\n",
    "    # grab the frame dimensions and convert it to a blob\n",
    "    (h, w) = roi.shape[:2]\n",
    "    blob = cv2.dnn.blobFromImage(cv2.resize(roi, (300, 300)),\n",
    "                                 0.007843, (300, 300), 127.5)\n",
    "\n",
    "    # pass the blob through the network and obtain the detections and\n",
    "    # predictions\n",
    "    net.setInput(blob)\n",
    "    detections = net.forward()\n",
    "\n",
    "    person = []\n",
    "    # loop over the detections\n",
    "    for i in np.arange(0, detections.shape[2]):\n",
    "        # extract the confidence (i.e., probability) associated with\n",
    "        # the prediction\n",
    "        confidence = detections[0, 0, i, 2]\n",
    "\n",
    "        # filter out weak detections by ensuring the `confidence` is\n",
    "        # greater than the minimum confidence\n",
    "        if confidence > 0.50:\n",
    "            # extract the index of the class label from the\n",
    "            # `detections`, then compute the (x, y)-coordinates of\n",
    "            # the bounding box for the object\n",
    "            idx = int(detections[0, 0, i, 1])\n",
    "            box = detections[0, 0, i, 3:7] * np.array([w, h, w, h])\n",
    "            (startX, startY, endX, endY) = box.astype(\"int\")\n",
    "\n",
    "            if CLASSES[idx] == \"person\":\n",
    "                person.append(CLASSES[idx])\n",
    "            # draw the prediction on the frame\n",
    "            label = \"{}: {:.2f}%\".format(CLASSES[idx],\n",
    "                                         confidence * 100)\n",
    "            detected_objects.append(label)\n",
    "            cv2.rectangle(roi, (startX, startY), (endX, endY),\n",
    "                          COLORS[idx], 2)\n",
    "            y = startY - 15 if startY - 15 > 15 else startY + 15\n",
    "            cv2.putText(roi, label, (startX, y),\n",
    "                        cv2.FONT_HERSHEY_SIMPLEX, 0.5, COLORS[idx], 2)\n",
    "    if \"person\" in person:\n",
    "        cv2.putText(frame, \"Alert Person Detected!!!\", (50, 50),\n",
    "                    cv2.FONT_HERSHEY_SIMPLEX, 1, (0,0,255), 3)\n",
    "    # show the output frame\n",
    "    cv2.imshow(\"Frame\", frame)\n",
    "    \n",
    "    #writing the video\n",
    "    video_writer.write(frame)\n",
    "    \n",
    "    key = cv2.waitKey(1) & 0xFF\n",
    "\n",
    "    # if the `q` key was pressed, break from the loop\n",
    "    if cv2.waitKey(1) & 0xFF == ord('q'):\n",
    "        break\n",
    "\n",
    "# do a bit of cleanup\n",
    "cv2.destroyAllWindows()\n",
    "\n",
    "#Release video writer\n",
    "video_writer.release()"
   ]
  },
  {
   "cell_type": "code",
   "execution_count": null,
   "id": "f4dfc3ab",
   "metadata": {},
   "outputs": [],
   "source": []
  }
 ],
 "metadata": {
  "kernelspec": {
   "display_name": "Python 3",
   "language": "python",
   "name": "python3"
  },
  "language_info": {
   "codemirror_mode": {
    "name": "ipython",
    "version": 3
   },
   "file_extension": ".py",
   "mimetype": "text/x-python",
   "name": "python",
   "nbconvert_exporter": "python",
   "pygments_lexer": "ipython3",
   "version": "3.8.8"
  }
 },
 "nbformat": 4,
 "nbformat_minor": 5
}
